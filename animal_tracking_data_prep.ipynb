{
 "cells": [
  {
   "cell_type": "code",
   "execution_count": null,
   "id": "5a68907b",
   "metadata": {},
   "outputs": [],
   "source": [
    "## Animal Tracking Visualisations\n",
    "# Visualisations to assist security forces in the fight against poaching\n",
    "\n",
    "# Import relevant libraries \n",
    "import pandas as pd\n",
    "import datetime as dt\n",
    "import geopandas as gpd\n",
    "from shapely.geometry import Point, Polygon, MultiPolygon\n",
    "\n",
    "# Import animal tracking data\n",
    "# URL of the data set\n",
    "url = \"/Users/samwinkworth/final-project/data/forestObservatory.xlsx\"\n",
    "\n",
    "# Read first page of the data set and alter column names to remove whitespace\n",
    "forestObs = pd.read_excel(url, 'Catalog')\n",
    "forestObs = forestObs.rename(columns={'Sheet_Name ': 'Sheet_Name', 'Animal Type ': 'Animal_Type'})\n",
    "\n",
    "# Alter animal names so they're consistent\n",
    "forestObs['Animal_Type'] = forestObs['Animal_Type'].str.replace(\"-\",\"_\")\n",
    "forestObs['Animal_Type'] = forestObs['Animal_Type'].str.replace(\" \",\"\")\n",
    "forestObs['Animal_Type'] = forestObs['Animal_Type'].str.replace(\"ElephantorLeapardcat\",\"Elephant_or_Leapard_cat\")\n",
    "forestObs['Animal_Type'] = forestObs['Animal_Type'].str.replace(\"?\",\"\", regex=True)\n",
    "forestObs['Animal_Type'] = forestObs['Animal_Type'].str.replace(\"(\",\"_\", regex=True)\n",
    "forestObs['Animal_Type'] = forestObs['Animal_Type'].str.replace(\")\",\"\", regex=True)\n",
    "\n",
    "# Create a list of all the sheets and animals in the data set\n",
    "#dname = forestObs['Sheet_Name'].to_list()\n",
    "#animal_name = forestObs['Animal_Type']\n",
    "\n",
    "# Combine the two lists\n",
    "animalDoc = list(zip(forestObs.Animal_Type, forestObs.Sheet_Name))\n",
    "\n",
    "# Hide outputs but saves output \n",
    "#%%capture\n",
    "\n",
    "sheet_list = ['Kuma_GPSloc_27Apr-1Nov13',\n",
    " 'Jasmin_GPSloc_26Oct11-19Apr12',\n",
    " 'Putut_GPSloc_26Oct11-16Aug12',\n",
    " 'Bikang1_GPSloc_20Jan-15Aug13',\n",
    " 'Bikang2_GPSloc_23Jan-15Aug13',\n",
    " 'Sejati_GPSloc_5Jun-29Oct13',\n",
    " 'Umas2_GPSloc_17Apr-24Dec14',\n",
    " 'Ita_GPSloc_4Jun13-24Jul14r',\n",
    " 'Abaw_GPSloc_23Feb14-21Jul15',\n",
    " 'Liun_GPSloc_15Apr11-2Nov13',\n",
    " 'Dara_GPSloc_26Feb13-22Mar15',\n",
    " 'Jasper_GPSloc_16Mar14-12Aug15',\n",
    " 'Guli_GPSloc_20Jun15-6Feb17',\n",
    " 'Maliau_GPSloc_8Jul15-18Jun17',\n",
    " 'Tunglap_GPSloc_8Dec13-17Nov15',\n",
    " 'Seri_GPSloc_8Nov15-10Jan18',\n",
    " 'WinWin_GPSloc_18Dec13-28Jun16',\n",
    " 'Puteri_GPSloc_20Oct12-26Jul16',\n",
    " 'Tulid_GPSloc_7Dec13-20May16',\n",
    " 'Kasih_GPSloc_6Jul14-20May17',\n",
    " 'Aqeela_GPSloc_5Oct10-6Jul13',\n",
    " 'Merotai_GPSloc_18Apr15-30Sep16']\n",
    "\n",
    "df = pd.concat(pd.read_excel(url, sheet_name=sheet_list), ignore_index=True)\n",
    "\n",
    "# Keep only necessary columns\n",
    "df = df[['GMT Date','GMT Time', 'Lat', 'Lon', 'Alt (m)', 'Type', 'Name', 'Age', 'Sex', 'Capture_Loc', 'Release_Loc', 'Release_Date']]"
   ]
  },
  {
   "cell_type": "code",
   "execution_count": null,
   "id": "9d0b31f9",
   "metadata": {},
   "outputs": [],
   "source": [
    "df = df.drop_duplicates()\n",
    "\n",
    "df.isnull().sum()"
   ]
  },
  {
   "cell_type": "code",
   "execution_count": null,
   "id": "1aba2f96",
   "metadata": {},
   "outputs": [],
   "source": [
    "# Drop rows containing impossible dates \n",
    "i_date = df[((df['GMT Date'] == '2014-00-15'))].index\n",
    "i_date1= df[((df['GMT Date'] == '2015-06-00'))].index\n",
    "df = df.drop(i_date)\n",
    "df = df.drop(i_date1)\n",
    "\n",
    "# Create new column with date format that can be passed through timeStampedGeoJson function\n",
    "df['GMT Date ISO'] = pd.to_datetime(df['GMT Date']).dt.strftime('%Y-%m-%dT%H:%M:%SZ')"
   ]
  },
  {
   "cell_type": "code",
   "execution_count": null,
   "id": "f10b23e7",
   "metadata": {},
   "outputs": [],
   "source": [
    "# Method to remove coordinates outside of Borneo\n",
    "# Define coordinates of polygon surrounding Borneo\n",
    "coords = [[109.9099731, 2.1926104], [117.0153809, 7.5694373], [119.4873047, 5.4410223], \n",
    "          [119.2016602, 0.8788718], [116.3232422, -4.28068], [111.862793, -3.973861],\n",
    "          [109.2480469, -2.6577378], [108.1494141, 1.6257584], [109.9099731, 2.1926104]]\n",
    "\n",
    "# Turn coordinates into Shapely polgon\n",
    "poly = Polygon(coords)\n",
    "\n",
    "# Create dataframe with geometry of defined polygon\n",
    "poly_geom= gpd.GeoDataFrame()\n",
    "poly_geom['geometry'] = None\n",
    "poly_geom.loc[0,'geometry'] = poly\n",
    "\n",
    "# Create list of geometry points\n",
    "geom_data = [Point(xy) for xy in zip(df.Lon, df.Lat)]\n",
    "gpd_df = gpd.GeoDataFrame(df, geometry=geom_data)\n",
    "\n",
    "# Create new data frame by using spatial join and exclude any rows with coordinates outside of polygon\n",
    "df0 = gpd.sjoin(gpd_df, poly_geom)"
   ]
  },
  {
   "cell_type": "code",
   "execution_count": null,
   "id": "b6c9c1e9",
   "metadata": {},
   "outputs": [],
   "source": [
    "# Export CSV of all processed tracking data\n",
    "df0.to_csv('/Users/samwinkworth/final-project/data/animal_tracking.csv', index=False)"
   ]
  }
 ],
 "metadata": {
  "kernelspec": {
   "display_name": "Python 3 (ipykernel)",
   "language": "python",
   "name": "python3"
  },
  "language_info": {
   "codemirror_mode": {
    "name": "ipython",
    "version": 3
   },
   "file_extension": ".py",
   "mimetype": "text/x-python",
   "name": "python",
   "nbconvert_exporter": "python",
   "pygments_lexer": "ipython3",
   "version": "3.9.12"
  }
 },
 "nbformat": 4,
 "nbformat_minor": 5
}
