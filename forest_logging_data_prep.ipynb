{
 "cells": [
  {
   "cell_type": "code",
   "execution_count": null,
   "id": "eb218809",
   "metadata": {},
   "outputs": [],
   "source": [
    "import pandas as pd"
   ]
  },
  {
   "cell_type": "code",
   "execution_count": null,
   "id": "f39ff8c4",
   "metadata": {},
   "outputs": [],
   "source": [
    "# Import logging data\n",
    "df = pd.read_csv(\"/Users/samwinkworth/final-project/data/loggingLSD.csv\") \n",
    "\n",
    "# Rename column for ease of use\n",
    "df = df.rename(columns={\"Forest.floor.temperature..degC.\": \"Temp\"})\n",
    "df = df.rename(columns={\"Time.elapsed..s.\": \"Time_elapsed\"})\n",
    "\n",
    "df.isnull().sum()"
   ]
  },
  {
   "cell_type": "code",
   "execution_count": null,
   "id": "8715c35b",
   "metadata": {},
   "outputs": [],
   "source": [
    "df"
   ]
  },
  {
   "cell_type": "code",
   "execution_count": null,
   "id": "0e2ca470",
   "metadata": {},
   "outputs": [],
   "source": [
    "# Create data frames for each type of logging site\n",
    "Heavily_logged = df.loc[df['Site'] == 'Heavily logged']\n",
    "Moderately_logged = df.loc[df['Site'] == 'Moderately logged']\n",
    "Old_growth = df.loc[df['Site'] == 'Old growth']"
   ]
  },
  {
   "cell_type": "code",
   "execution_count": null,
   "id": "917573aa",
   "metadata": {},
   "outputs": [],
   "source": [
    "print(Old_growth[Old_growth.duplicated(keep=False)])\n",
    "print(Moderately_logged[Moderately_logged.duplicated(keep=False)])\n",
    "print(Heavily_logged[Heavily_logged.duplicated(keep=False)])"
   ]
  },
  {
   "cell_type": "code",
   "execution_count": null,
   "id": "74b0472d",
   "metadata": {},
   "outputs": [],
   "source": [
    "print(len(Moderately_logged))\n",
    "print(len(Old_growth))"
   ]
  },
  {
   "cell_type": "code",
   "execution_count": null,
   "id": "b6adaea2",
   "metadata": {},
   "outputs": [],
   "source": [
    "Old_growth = Old_growth.groupby(['Tag', 'Time_elapsed']).mean()\n",
    "Old_growth = Old_growth.reset_index()\n",
    "Moderately_logged = Moderately_logged.groupby(['Tag', 'Time_elapsed']).mean()\n",
    "Moderately_logged = Moderately_logged.reset_index()"
   ]
  },
  {
   "cell_type": "code",
   "execution_count": null,
   "id": "037b67f3",
   "metadata": {},
   "outputs": [],
   "source": [
    "print(Old_growth[Old_growth.duplicated(keep=False)])\n",
    "print(Moderately_logged[Moderately_logged.duplicated(keep=False)])\n",
    "print(Heavily_logged[Heavily_logged.duplicated(keep=False)])"
   ]
  },
  {
   "cell_type": "code",
   "execution_count": null,
   "id": "39cbd1f5",
   "metadata": {},
   "outputs": [],
   "source": [
    "print(len(Moderately_logged))\n",
    "print(len(Old_growth))"
   ]
  },
  {
   "cell_type": "code",
   "execution_count": null,
   "id": "179e3517",
   "metadata": {},
   "outputs": [],
   "source": [
    "df = df.groupby(['Site', 'Tag', 'Time_elapsed']).mean()\n",
    "df = df.reset_index()\n",
    "df"
   ]
  },
  {
   "cell_type": "code",
   "execution_count": null,
   "id": "f2120fa6",
   "metadata": {},
   "outputs": [],
   "source": [
    "df.to_csv(\"/Users/samwinkworth/final-project/data/logging_prep.csv\")"
   ]
  }
 ],
 "metadata": {
  "kernelspec": {
   "display_name": "Python 3 (ipykernel)",
   "language": "python",
   "name": "python3"
  },
  "language_info": {
   "codemirror_mode": {
    "name": "ipython",
    "version": 3
   },
   "file_extension": ".py",
   "mimetype": "text/x-python",
   "name": "python",
   "nbconvert_exporter": "python",
   "pygments_lexer": "ipython3",
   "version": "3.9.12"
  }
 },
 "nbformat": 4,
 "nbformat_minor": 5
}
